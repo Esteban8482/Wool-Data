{
 "cells": [
  {
   "cell_type": "markdown",
   "metadata": {},
   "source": [
    "# Documentacion\n",
    "## Seleccion de modelo\n",
    "### Random Forest\n",
    "Buen manejo de datos mixtos, considerando que en el dataset tenemos tanto datos categoricos como numericos, tambien tiene una gran capacidad para captar relaciones no lineales tales como las categoricas de este caso.\n",
    "### CatBoost\n",
    "La forma en que convierte los datos categoricos en numericos es conveniente, ademas no es avaricioso con los recursos computacionales para realizar su tarea.\n",
    "##### Consideraciones\n",
    "Se implemento una evaluacion de modelos que permitiria crear una lista de modelos y escoger de ella el modelo que tenga el puntaje mas alto en base a las metricas\n",
    "\n",
    "## Ajuste de Hiperparámetros\n",
    "Se llevó a cabo un proceso de ajuste de hiperparámetros, utilizando métodos de búsqueda aleatoria y búsqueda en cuadrícula para Random Forest y CatBoost respectivamente. Para **Random Forest**, se variaron `n_estimators`, `max_depth`, `min_samples_split` y `min_samples_leaf`, basándonos en valores comunes que suelen aumentar la precisión y evitar el sobreajuste. Para **CatBoost**, ajustamos `iterations`, `learning_rate`, `depth` y `l2_leaf_reg`, que influyen directamente en la velocidad de aprendizaje y la complejidad del modelo. La elección de estos valores se hizo considerando un equilibrio entre rendimiento computacional y precisión del modelo, así como las prácticas estándar en la industria para conjuntos de datos de características mixtas."
   ]
  },
  {
   "cell_type": "code",
   "execution_count": null,
   "metadata": {},
   "outputs": [],
   "source": []
  }
 ],
 "metadata": {
  "language_info": {
   "name": "python"
  }
 },
 "nbformat": 4,
 "nbformat_minor": 2
}
